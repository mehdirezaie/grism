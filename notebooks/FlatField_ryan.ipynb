{
 "cells": [
  {
   "cell_type": "markdown",
   "metadata": {},
   "source": [
    "# Flat Fielding of Slitless Spectroscopy\n",
    "\n",
    "## 0.  Primer\n",
    "Slitless spectroscopy uses a dispersive and transmissive optical element in the collimated beam to create a complete spectroscopic view of any astrophysical scene.  However, the lack of any light-restricting aperture (such as a slitlet, fiber, etc.), means that the spectral trace of multiple sources may overlap in the two-dimensional grism image.  Therefore a given imaging pixel may record the flux (at different wavelengths) from the multiple sources and/or background components (such as Zodiacal background, thermal emission, etc.).  Here, we discuss the issues associated with extending the classical application of a flat-field image to correct for pixel-to-pixel variations in the imaging device to that of slitless spectroscopy.\n",
    "\n",
    "\n",
    "This notebook was prepared by [Mehdi Rezaie](mailto:mr095415@ohio.edu) and [Russell Ryan](mailto:rryan@stsci.edu) as part of the Astrogrism coding spring May 11-16, 2020.  "
   ]
  },
  {
   "cell_type": "markdown",
   "metadata": {},
   "source": [
    "## 1.  Review of Key Concepts\n",
    "\n",
    "\n",
    "\n",
    "optical path of an imaging device may include physical obstructions (e.g. dust or particulates on optimal elements), illumination effects (e.g. vignetting), and/or variable pixel-to-pixel sensitivities, which leads to a nonuniform response. \n",
    "\n",
    "\n",
    "Since the sensitivity of a given pixel depends on the wavelength of incident light, the flat-field response must be characterized as a (${\\cal F}(\\lambda)$), and therefore the measured response in a given pixel $(x,y)$ is given as an integral:\n",
    "$$ r_{x,y}  = \\int {\\cal F}_{x,y}(\\lambda)\\, f_{x,y}(\\lambda)\\,\\mathrm{d}\\lambda $$\n",
    "where $f(\\lambda)$ is the spectrum of the incident light.  \n",
    "\n",
    "\n",
    "\n"
   ]
  },
  {
   "cell_type": "markdown",
   "metadata": {},
   "source": [
    "## 2.  Extensions to Slitless Spectroscopy\n",
    "\n",
    "One key difference between a grism optical element and a standard imaging element is that light incident on a given pixel $(x_d,y_d)$ will be recorded a new pixel position $(x_g,y_g)$, where that remapping is done as a function of wavelength and $(x_d,y_d)$.  This process must be calibrated by standard observations, which often results in determining the spectral trace and dispersion solution.  Software has been developed by [Nor Prizkal and Russell Ryan](https://www.stsci.edu/files/live/sites/www/files/home/hst/instrumentation/wfc3/documentation/instrument-science-reports-isrs/_documents/2017/WFC3-2017-01.pdf) to implement these transformations, and are represented a parametric functions:\n",
    "$$\n",
    "x_g = \\mathrm{X} (x_d,y_d,t) + x_d\\\\\n",
    "y_g = \\mathrm{Y} (x_d,y_d,t) + y_d\\\\\n",
    "\\lambda = \\Lambda (x_d,y_d,t)\n",
    "$$\n",
    "where $t$ is a parameter such that $0\\leq t\\leq1$.  With that, it is apparent that the response of a pixel must be reconsidered as the incident spectrum effectively eminates from a different position:\n",
    "$$\n",
    "r_{x_g,y_g} = \\int {\\cal F}_{x_g,y_g}(\\lambda)\\,f_{x_d,y_d}(\\lambda)\\,\\mathrm{d}\\lambda.\n",
    "$$\n",
    "***Note, here we take care to explicitly subscript $(x,y)$ with either $g$ or $d$ to refer to the measured position in a grism image or effective position from a direct image, respectively.***  Therefore, when flat-fielding one must invert the family of functions for $(x_g,y_g,\\lambda)$ to account for the relevant spectral components (whether from astrophysical sources or background contributions).  \n",
    "\n",
    "\n",
    "\n",
    "The flat-field image for slitless spectroscopy is often characterized as a polynomial in wavelength, where each of the polynomial coefficients is a two-dimensional image:\n",
    "$$ {\\cal F}_{x,y}(\\lambda) = \\sum_i {\\cal F}_{x,y,i}\\left(\\frac{\\lambda-\\lambda_0}{\\lambda_1-\\lambda_0}\\right)^i $$\n",
    "where $\\lambda_0$ and $\\lambda_1$ are arbitrary values that are often choosen to be approximately the blue and red edges (respectively) of the throughput of the grism element. In common usage, this is often referred to as a *flatfield cube*.  \n",
    "\n",
    "### DO WE WANT TO SHOW AN EXAMPLE OF THE FLAT FIELD CUBE?  \n"
   ]
  },
  {
   "cell_type": "markdown",
   "metadata": {},
   "source": [
    "## 3.  Simplifying Examples\n",
    "\n"
   ]
  },
  {
   "cell_type": "markdown",
   "metadata": {},
   "source": [
    "## 4.  Issues and Caveats\n",
    "\n",
    "\n"
   ]
  },
  {
   "cell_type": "code",
   "execution_count": null,
   "metadata": {},
   "outputs": [],
   "source": []
  },
  {
   "cell_type": "code",
   "execution_count": null,
   "metadata": {},
   "outputs": [],
   "source": []
  }
 ],
 "metadata": {
  "kernelspec": {
   "display_name": "Python 3",
   "language": "python",
   "name": "python3"
  },
  "language_info": {
   "codemirror_mode": {
    "name": "ipython",
    "version": 3
   },
   "file_extension": ".py",
   "mimetype": "text/x-python",
   "name": "python",
   "nbconvert_exporter": "python",
   "pygments_lexer": "ipython3",
   "version": "3.7.7"
  }
 },
 "nbformat": 4,
 "nbformat_minor": 4
}
